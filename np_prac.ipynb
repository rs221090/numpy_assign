{
 "cells": [
  {
   "cell_type": "markdown",
   "id": "bd7b58b9-ae0a-4418-931c-7dcff2fafd15",
   "metadata": {},
   "source": [
    "# Practical Questions"
   ]
  },
  {
   "cell_type": "markdown",
   "id": "4fc3e3cd-8982-4c08-940d-b83caa3cb545",
   "metadata": {},
   "source": [
    "1. Create a 3x3 NumPy array with random integers between 1 and 100. Then, interchange its rows and columns."
   ]
  },
  {
   "cell_type": "code",
   "execution_count": 2,
   "id": "0623b577-2000-4c08-911b-481957681fc5",
   "metadata": {},
   "outputs": [],
   "source": [
    "import numpy as np"
   ]
  },
  {
   "cell_type": "code",
   "execution_count": 4,
   "id": "2fd11842-acb4-493a-b45e-6fa9cab23046",
   "metadata": {},
   "outputs": [
    {
     "data": {
      "text/plain": [
       "array([[31, 35, 46],\n",
       "       [60, 22, 88],\n",
       "       [55, 61, 63]])"
      ]
     },
     "execution_count": 4,
     "metadata": {},
     "output_type": "execute_result"
    }
   ],
   "source": [
    "#solution 1\n",
    "arr1 = np.random.randint(1,100,9).reshape(3,3)\n",
    "arr1"
   ]
  },
  {
   "cell_type": "code",
   "execution_count": 5,
   "id": "b979ee8a-8aa5-49af-bcb7-7e2225a6b93a",
   "metadata": {},
   "outputs": [
    {
     "data": {
      "text/plain": [
       "array([[31, 60, 55],\n",
       "       [35, 22, 61],\n",
       "       [46, 88, 63]])"
      ]
     },
     "execution_count": 5,
     "metadata": {},
     "output_type": "execute_result"
    }
   ],
   "source": [
    "arr1.T    #transpose will interchange row and columns"
   ]
  },
  {
   "cell_type": "markdown",
   "id": "96f7732b-57a3-4a35-8bd7-6aa84d1bea5c",
   "metadata": {},
   "source": [
    "2. Generate a 1D NumPy array with 10 elements. Reshape it into a 2x5 array, then into a 5x2 array."
   ]
  },
  {
   "cell_type": "code",
   "execution_count": 9,
   "id": "37055bd3-91c9-4507-a4f7-f0b0990390f4",
   "metadata": {},
   "outputs": [
    {
     "data": {
      "text/plain": [
       "array([ 1,  2,  3,  4,  5,  6,  7,  8,  9, 10])"
      ]
     },
     "execution_count": 9,
     "metadata": {},
     "output_type": "execute_result"
    }
   ],
   "source": [
    "#solution 2\n",
    "arr1 = np.arange(1,11)   #1D array\n",
    "arr1"
   ]
  },
  {
   "cell_type": "code",
   "execution_count": 10,
   "id": "20361feb-de81-4b40-a968-dcd18cbf3b8b",
   "metadata": {},
   "outputs": [
    {
     "data": {
      "text/plain": [
       "array([[ 1,  2,  3,  4,  5],\n",
       "       [ 6,  7,  8,  9, 10]])"
      ]
     },
     "execution_count": 10,
     "metadata": {},
     "output_type": "execute_result"
    }
   ],
   "source": [
    "#reshape into 2x5 array\n",
    "arr1.reshape(2,5)"
   ]
  },
  {
   "cell_type": "code",
   "execution_count": 12,
   "id": "6ef923f4-4ba4-41a0-9600-4dac2da588f2",
   "metadata": {},
   "outputs": [
    {
     "data": {
      "text/plain": [
       "array([[ 1,  2],\n",
       "       [ 3,  4],\n",
       "       [ 5,  6],\n",
       "       [ 7,  8],\n",
       "       [ 9, 10]])"
      ]
     },
     "execution_count": 12,
     "metadata": {},
     "output_type": "execute_result"
    }
   ],
   "source": [
    "#reshape into 5x2 array\n",
    "arr1.reshape(5,2)"
   ]
  },
  {
   "cell_type": "markdown",
   "id": "3f5c3d42-b1d7-4510-a060-3d93d59054be",
   "metadata": {},
   "source": [
    "3. Create a 4x4 NumPy array with random float values. Add a border of zeros around it, \n",
    "resulting in a 6x6 array."
   ]
  },
  {
   "cell_type": "code",
   "execution_count": 9,
   "id": "7d1ef49e-8aec-4974-b517-004b944a971a",
   "metadata": {},
   "outputs": [
    {
     "data": {
      "text/plain": [
       "array([[2. , 2.4, 2.8, 3.2],\n",
       "       [3.6, 4. , 4.4, 4.8],\n",
       "       [5.2, 5.6, 6. , 6.4],\n",
       "       [6.8, 7.2, 7.6, 8. ]])"
      ]
     },
     "execution_count": 9,
     "metadata": {},
     "output_type": "execute_result"
    }
   ],
   "source": [
    "import numpy as np\n",
    "arr = np.linspace(2,8,16).reshape(4,4)\n",
    "arr"
   ]
  },
  {
   "cell_type": "code",
   "execution_count": 10,
   "id": "ae6a8ac8-50f2-4de6-9cdc-334de56b2fa4",
   "metadata": {},
   "outputs": [],
   "source": [
    "arr1,arr2,arr3,arr4 = np.split(arr,4)"
   ]
  },
  {
   "cell_type": "code",
   "execution_count": 25,
   "id": "b26ea37b-5288-40d8-a282-9b1941473fa8",
   "metadata": {},
   "outputs": [],
   "source": [
    "arr1 = np.insert(arr1,0,0)"
   ]
  },
  {
   "cell_type": "code",
   "execution_count": 19,
   "id": "bf8121cd-8bf0-42f9-8e1c-808bc3d2897e",
   "metadata": {},
   "outputs": [
    {
     "data": {
      "text/plain": [
       "array([0. , 2. , 2.4, 2.8, 3.2, 0. ])"
      ]
     },
     "execution_count": 19,
     "metadata": {},
     "output_type": "execute_result"
    }
   ],
   "source": [
    "np.append(arr1,0)"
   ]
  },
  {
   "cell_type": "code",
   "execution_count": 62,
   "id": "fb98adf6-e436-43fc-84da-c21266ae3436",
   "metadata": {},
   "outputs": [
    {
     "name": "stdout",
     "output_type": "stream",
     "text": [
      "[array([0. , 2. , 2.4, 2.8, 3.2, 0. ]), array([0. , 3.6, 4. , 4.4, 4.8, 0. ]), array([0. , 5.2, 5.6, 6. , 6.4, 0. ]), array([0. , 6.8, 7.2, 7.6, 8. , 0. ])]\n"
     ]
    }
   ],
   "source": [
    "new_arr = np.array([0,0,0,0,0,0])\n",
    "lst = []\n",
    "for n in np.split(arr,4):\n",
    "    i = np.insert(n,0,0)\n",
    "    i = np.append(i,0)\n",
    "    lst == lst.append(i)\n",
    "print(lst)\n",
    "    \n",
    "    \n",
    "    "
   ]
  },
  {
   "cell_type": "code",
   "execution_count": 65,
   "id": "331106d3-2f6a-4d3a-91eb-fc9f94cf7801",
   "metadata": {},
   "outputs": [],
   "source": [
    "arr1 = np.zeros(6)\n",
    "arr6 = np.zeros(6)"
   ]
  },
  {
   "cell_type": "code",
   "execution_count": 66,
   "id": "baa022a5-ae95-4a78-a7bb-203ec0ac7a10",
   "metadata": {},
   "outputs": [],
   "source": [
    "arr2,arr3,arr4,arr5 = lst"
   ]
  },
  {
   "cell_type": "code",
   "execution_count": 74,
   "id": "5d343f70-1a89-42bb-bd11-661f9a1dc34f",
   "metadata": {},
   "outputs": [
    {
     "data": {
      "text/plain": [
       "array([[0. , 0. , 0. , 0. , 0. , 0. ],\n",
       "       [0. , 2. , 2.4, 2.8, 3.2, 0. ],\n",
       "       [0. , 3.6, 4. , 4.4, 4.8, 0. ],\n",
       "       [0. , 5.2, 5.6, 6. , 6.4, 0. ],\n",
       "       [0. , 6.8, 7.2, 7.6, 8. , 0. ],\n",
       "       [0. , 0. , 0. , 0. , 0. , 0. ]])"
      ]
     },
     "execution_count": 74,
     "metadata": {},
     "output_type": "execute_result"
    }
   ],
   "source": [
    "final_arr = np.vstack((arr1,arr2,arr3,arr4,arr5,arr6))\n",
    "final_arr"
   ]
  },
  {
   "cell_type": "markdown",
   "id": "1b9f1f99-e17c-4a03-b3bc-12862f75be86",
   "metadata": {},
   "source": [
    "4. Using NumPy, create an array of integers from 10 to 60 with a step of 5."
   ]
  },
  {
   "cell_type": "code",
   "execution_count": 81,
   "id": "c62d0754-4dcf-4c2f-ad38-86cf217cc724",
   "metadata": {},
   "outputs": [
    {
     "data": {
      "text/plain": [
       "array([10, 15, 20, 25, 30, 35, 40, 45, 50, 55, 60])"
      ]
     },
     "execution_count": 81,
     "metadata": {},
     "output_type": "execute_result"
    }
   ],
   "source": [
    "#solution 4\n",
    "arr = np.arange(10,61,5)\n",
    "arr"
   ]
  },
  {
   "cell_type": "markdown",
   "id": "3705fef9-30a6-4e28-a695-1a9798803e72",
   "metadata": {},
   "source": [
    "5. Create a NumPy array of strings ['python', 'numpy', 'pandas']. Apply different case transformations\n",
    "(uppercase, lowercase, title case, etc.) to each element."
   ]
  },
  {
   "cell_type": "code",
   "execution_count": 85,
   "id": "77ab6af3-0e4f-4946-ac7b-75256891bda6",
   "metadata": {},
   "outputs": [
    {
     "data": {
      "text/plain": [
       "array(['python', 'numpy', 'pandas'], dtype='<U6')"
      ]
     },
     "execution_count": 85,
     "metadata": {},
     "output_type": "execute_result"
    }
   ],
   "source": [
    "#solution 5\n",
    "str_arr = np.array(['python', 'numpy', 'pandas'])\n",
    "str_arr"
   ]
  },
  {
   "cell_type": "code",
   "execution_count": 86,
   "id": "9e1c939f-7f91-4d67-a451-5bfe55068a6e",
   "metadata": {},
   "outputs": [
    {
     "data": {
      "text/plain": [
       "array(['PYTHON', 'NUMPY', 'PANDAS'], dtype='<U6')"
      ]
     },
     "execution_count": 86,
     "metadata": {},
     "output_type": "execute_result"
    }
   ],
   "source": [
    "np.char.upper(str_arr)   #uppercase "
   ]
  },
  {
   "cell_type": "code",
   "execution_count": 87,
   "id": "eb222247-0390-4d7a-8c91-519a929863b9",
   "metadata": {},
   "outputs": [
    {
     "data": {
      "text/plain": [
       "array(['python', 'numpy', 'pandas'], dtype='<U6')"
      ]
     },
     "execution_count": 87,
     "metadata": {},
     "output_type": "execute_result"
    }
   ],
   "source": [
    "np.char.lower(str_arr)  #lowercase"
   ]
  },
  {
   "cell_type": "code",
   "execution_count": 88,
   "id": "b0fba167-f338-4546-bb23-3c1aefbfe47e",
   "metadata": {},
   "outputs": [
    {
     "data": {
      "text/plain": [
       "array(['Python', 'Numpy', 'Pandas'], dtype='<U6')"
      ]
     },
     "execution_count": 88,
     "metadata": {},
     "output_type": "execute_result"
    }
   ],
   "source": [
    "np.char.title(str_arr) #title"
   ]
  },
  {
   "cell_type": "code",
   "execution_count": 89,
   "id": "d8fafb0f-cf72-49e5-9d10-43b42826cff0",
   "metadata": {},
   "outputs": [
    {
     "data": {
      "text/plain": [
       "array(['Python', 'Numpy', 'Pandas'], dtype='<U6')"
      ]
     },
     "execution_count": 89,
     "metadata": {},
     "output_type": "execute_result"
    }
   ],
   "source": [
    "np.char. capitalize(str_arr) #capitalize"
   ]
  },
  {
   "cell_type": "markdown",
   "id": "235cd25c-a854-4e3d-8525-dd67e734f694",
   "metadata": {},
   "source": [
    "6. Generate a NumPy array of words. Insert a space between each character of every word in the array."
   ]
  },
  {
   "cell_type": "code",
   "execution_count": 111,
   "id": "be10f468-2a8d-48ce-a4b8-9d3320f7b123",
   "metadata": {},
   "outputs": [
    {
     "data": {
      "text/plain": [
       "array(['p y t h o n', 'n u m p y', 'p a n d a s'], dtype='<U11')"
      ]
     },
     "execution_count": 111,
     "metadata": {},
     "output_type": "execute_result"
    }
   ],
   "source": [
    "#solution 6\n",
    "str_arr = np.array(['python', 'numpy', 'pandas'])\n",
    "np.char.join(\" \",str_arr)"
   ]
  },
  {
   "cell_type": "markdown",
   "id": "0d1b34b2-336b-4a61-bbdc-5d251b95ce0e",
   "metadata": {},
   "source": [
    "7. Create two 2D NumPy arrays and perform element-wise addition, subtraction, multiplication, and division"
   ]
  },
  {
   "cell_type": "code",
   "execution_count": 118,
   "id": "9e40b41c-42b7-443a-8977-21e5333e22c1",
   "metadata": {},
   "outputs": [],
   "source": [
    "arr1 = np.linspace(6,24,9).reshape(3,3)\n",
    "arr2 = np.linspace(9,45,9).reshape(3,3)"
   ]
  },
  {
   "cell_type": "code",
   "execution_count": 120,
   "id": "f24c2899-0704-4ae0-9332-b5122feaaa21",
   "metadata": {},
   "outputs": [
    {
     "data": {
      "text/plain": [
       "array([[ 6.  ,  8.25, 10.5 ],\n",
       "       [12.75, 15.  , 17.25],\n",
       "       [19.5 , 21.75, 24.  ]])"
      ]
     },
     "execution_count": 120,
     "metadata": {},
     "output_type": "execute_result"
    }
   ],
   "source": [
    "arr1"
   ]
  },
  {
   "cell_type": "code",
   "execution_count": 119,
   "id": "023c2e05-a439-44ea-ac99-6f78c6cd2465",
   "metadata": {},
   "outputs": [
    {
     "data": {
      "text/plain": [
       "array([[ 9. , 13.5, 18. ],\n",
       "       [22.5, 27. , 31.5],\n",
       "       [36. , 40.5, 45. ]])"
      ]
     },
     "execution_count": 119,
     "metadata": {},
     "output_type": "execute_result"
    }
   ],
   "source": [
    "arr2"
   ]
  },
  {
   "cell_type": "code",
   "execution_count": 121,
   "id": "f61430d6-3818-4eb6-8288-b482fd6cceaf",
   "metadata": {},
   "outputs": [
    {
     "data": {
      "text/plain": [
       "array([[15.  , 21.75, 28.5 ],\n",
       "       [35.25, 42.  , 48.75],\n",
       "       [55.5 , 62.25, 69.  ]])"
      ]
     },
     "execution_count": 121,
     "metadata": {},
     "output_type": "execute_result"
    }
   ],
   "source": [
    "#addition\n",
    "arr1+arr2"
   ]
  },
  {
   "cell_type": "code",
   "execution_count": 122,
   "id": "e5ee442d-b2fa-4414-836e-374b6433499b",
   "metadata": {},
   "outputs": [
    {
     "data": {
      "text/plain": [
       "array([[  54.   ,  111.375,  189.   ],\n",
       "       [ 286.875,  405.   ,  543.375],\n",
       "       [ 702.   ,  880.875, 1080.   ]])"
      ]
     },
     "execution_count": 122,
     "metadata": {},
     "output_type": "execute_result"
    }
   ],
   "source": [
    "#multiplication\n",
    "arr1*arr2"
   ]
  },
  {
   "cell_type": "code",
   "execution_count": 123,
   "id": "d4a33e56-60ca-49e7-9fe7-134fce16b235",
   "metadata": {},
   "outputs": [
    {
     "data": {
      "text/plain": [
       "array([[ -3.  ,  -5.25,  -7.5 ],\n",
       "       [ -9.75, -12.  , -14.25],\n",
       "       [-16.5 , -18.75, -21.  ]])"
      ]
     },
     "execution_count": 123,
     "metadata": {},
     "output_type": "execute_result"
    }
   ],
   "source": [
    "#subtraction\n",
    "arr1-arr2"
   ]
  },
  {
   "cell_type": "code",
   "execution_count": 125,
   "id": "5a2117f6-e8c3-4f9d-b181-0d85a80ac78f",
   "metadata": {},
   "outputs": [
    {
     "data": {
      "text/plain": [
       "array([[0.66666667, 0.61111111, 0.58333333],\n",
       "       [0.56666667, 0.55555556, 0.54761905],\n",
       "       [0.54166667, 0.53703704, 0.53333333]])"
      ]
     },
     "execution_count": 125,
     "metadata": {},
     "output_type": "execute_result"
    }
   ],
   "source": [
    "#division\n",
    "arr1/arr2"
   ]
  },
  {
   "cell_type": "markdown",
   "id": "96aecedc-a059-4703-8523-59d1295c6e36",
   "metadata": {},
   "source": [
    "8. Use NumPy to create a 5x5 identity matrix, then extract its diagonal elements"
   ]
  },
  {
   "cell_type": "code",
   "execution_count": 127,
   "id": "a4af2fcc-a73b-4f09-a20f-4bcadd38b6f2",
   "metadata": {},
   "outputs": [
    {
     "data": {
      "text/plain": [
       "array([[1., 0., 0., 0., 0.],\n",
       "       [0., 1., 0., 0., 0.],\n",
       "       [0., 0., 1., 0., 0.],\n",
       "       [0., 0., 0., 1., 0.],\n",
       "       [0., 0., 0., 0., 1.]])"
      ]
     },
     "execution_count": 127,
     "metadata": {},
     "output_type": "execute_result"
    }
   ],
   "source": [
    "#SOLUTION 8\n",
    "identity_arr = np.eye(5)   #5x5 diagonal matrix\n",
    "identity_arr"
   ]
  },
  {
   "cell_type": "code",
   "execution_count": 129,
   "id": "c89f9e54-92e3-41e4-9610-283d4780f8c1",
   "metadata": {},
   "outputs": [
    {
     "data": {
      "text/plain": [
       "array([1., 1., 1., 1., 1.])"
      ]
     },
     "execution_count": 129,
     "metadata": {},
     "output_type": "execute_result"
    }
   ],
   "source": [
    "np.diag(identity_arr)    #gives diagonal elements of any matrix"
   ]
  },
  {
   "cell_type": "markdown",
   "id": "af89d7d0-9189-42ce-afbb-692c3d462886",
   "metadata": {},
   "source": [
    "9. Generate a NumPy array of 100 random integers between 0 and 1000. Find and display all prime numbers in\n",
    "this array."
   ]
  },
  {
   "cell_type": "code",
   "execution_count": 52,
   "id": "90ad7208-3e1f-494b-8b83-640f834dbd94",
   "metadata": {},
   "outputs": [
    {
     "data": {
      "text/plain": [
       "[383, 53, 109, 307, 379, 241, 457, 929, 349, 727, 293, 827]"
      ]
     },
     "execution_count": 52,
     "metadata": {},
     "output_type": "execute_result"
    }
   ],
   "source": [
    "ran_arr = np.random.randint(0,1000,100)\n",
    "prime_lst = []\n",
    "for i in ran_arr:\n",
    "    if i == 1 or i == 0:\n",
    "        continue\n",
    "    else:\n",
    "        for j in range(2,i):\n",
    "            if (i%j == 0):\n",
    "                break\n",
    "        else:\n",
    "            prime_lst.append(i)\n",
    "prime_lst"
   ]
  },
  {
   "cell_type": "markdown",
   "id": "b42e86b0-1435-4d18-923e-2fbfeb37805f",
   "metadata": {},
   "source": [
    "10. Create a NumPy array representing daily temperatures for a month. Calculate and display the weekly\n",
    "averages."
   ]
  },
  {
   "cell_type": "code",
   "execution_count": 30,
   "id": "4ba0bb55-7835-43db-bdb5-b701e004c5e3",
   "metadata": {},
   "outputs": [],
   "source": [
    "#solution 10\n",
    "arr = np.random.randint(28,39,35).reshape(5,7)"
   ]
  },
  {
   "cell_type": "code",
   "execution_count": 35,
   "id": "5ddf1801-a7f8-4dd9-9abc-bdf250e442b1",
   "metadata": {},
   "outputs": [],
   "source": [
    "week_arr = np.split(arr,5,axis = 0)"
   ]
  },
  {
   "cell_type": "code",
   "execution_count": 38,
   "id": "58e84081-833e-4411-8c73-9470de6ae3a1",
   "metadata": {},
   "outputs": [
    {
     "name": "stdout",
     "output_type": "stream",
     "text": [
      "weekly averages of temperature = 32.42857142857143\n",
      "weekly averages of temperature = 32.57142857142857\n",
      "weekly averages of temperature = 32.285714285714285\n",
      "weekly averages of temperature = 31.857142857142858\n",
      "weekly averages of temperature = 32.57142857142857\n"
     ]
    }
   ],
   "source": [
    "for n in week_arr:\n",
    "    weekly_average = np.sum(n)/7\n",
    "    print(\"weekly averages of temperature =\" , weekly_average)"
   ]
  },
  {
   "cell_type": "code",
   "execution_count": null,
   "id": "6f4fd92b-ca99-4c26-93e0-6caf8a6ddf50",
   "metadata": {},
   "outputs": [],
   "source": [
    "\n"
   ]
  }
 ],
 "metadata": {
  "kernelspec": {
   "display_name": "Python 3 (ipykernel)",
   "language": "python",
   "name": "python3"
  },
  "language_info": {
   "codemirror_mode": {
    "name": "ipython",
    "version": 3
   },
   "file_extension": ".py",
   "mimetype": "text/x-python",
   "name": "python",
   "nbconvert_exporter": "python",
   "pygments_lexer": "ipython3",
   "version": "3.10.8"
  }
 },
 "nbformat": 4,
 "nbformat_minor": 5
}
