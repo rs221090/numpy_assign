{
 "cells": [
  {
   "cell_type": "markdown",
   "id": "e4800c1d-8f36-4b08-9bd3-70a590985c6c",
   "metadata": {},
   "source": [
    "#   Theoretical Questions"
   ]
  },
  {
   "cell_type": "markdown",
   "id": "19cac3cb-4d68-4e55-a448-5d3faaea2825",
   "metadata": {},
   "source": [
    "1. Explain the purpose and advantages of NumPy in scientific computing and data analysis. How does it\n",
    "enhance Python's capabilities for numerical operations?"
   ]
  },
  {
   "cell_type": "code",
   "execution_count": null,
   "id": "9faba8c4-8b87-49f2-8f91-2ca36ace4566",
   "metadata": {},
   "outputs": [],
   "source": [
    "#solution 1\n",
    "numpy efficiently handle array which are collection of homogenous data hence calculation is fast\n",
    "and memory efficient.\n",
    "numpy perform complex mathematical operation seamlessly and also easily intrgrated with other libraries\n",
    "all these features enhance pythons capabilities for numerical operation"
   ]
  },
  {
   "cell_type": "markdown",
   "id": "c0b8e9df-df6b-49a9-b2c0-fde9d9d630d4",
   "metadata": {},
   "source": [
    "2. Compare and contrast np.mean() and np.average() functions in NumPy. When would you use one over the other?"
   ]
  },
  {
   "cell_type": "code",
   "execution_count": null,
   "id": "66b09da1-787b-437c-a3b1-63a706019e77",
   "metadata": {},
   "outputs": [],
   "source": [
    "#solution 2\n",
    "np.mean() calculate arithmetic mean where as np.average() calculate both \n",
    "arithmetic mean as well as weighted average.\n",
    "if all elements have equal weight then both will give same result\n",
    "np.average() is more efficient as it calculate both\n",
    "it does the job for np.mean() also\n",
    "use np.mean() when all elements have equal weight\n",
    "when weights are different use np.average()"
   ]
  },
  {
   "cell_type": "code",
   "execution_count": 2,
   "id": "340ffebc-c477-4e46-89c0-7e89a68cecad",
   "metadata": {},
   "outputs": [],
   "source": [
    "#examples\n",
    "import numpy as np\n",
    "arr = np.array([1,2,3,4,5,6,7,8]) #all elements are of equal weight"
   ]
  },
  {
   "cell_type": "code",
   "execution_count": 6,
   "id": "9845fe78-fa4a-4f3f-a891-7b78200e46fa",
   "metadata": {},
   "outputs": [
    {
     "data": {
      "text/plain": [
       "4.5"
      ]
     },
     "execution_count": 6,
     "metadata": {},
     "output_type": "execute_result"
    }
   ],
   "source": [
    "np.mean(arr)  #can calculate mean only"
   ]
  },
  {
   "cell_type": "code",
   "execution_count": 7,
   "id": "a1a1d236-7a5d-4188-878e-5eeb44a50dd3",
   "metadata": {},
   "outputs": [
    {
     "data": {
      "text/plain": [
       "4.5"
      ]
     },
     "execution_count": 7,
     "metadata": {},
     "output_type": "execute_result"
    }
   ],
   "source": [
    "np.average(arr) "
   ]
  },
  {
   "cell_type": "code",
   "execution_count": 9,
   "id": "4d904592-4c8e-4621-8404-4729efad52cd",
   "metadata": {},
   "outputs": [
    {
     "data": {
      "text/plain": [
       "4.166666666666667"
      ]
     },
     "execution_count": 9,
     "metadata": {},
     "output_type": "execute_result"
    }
   ],
   "source": [
    "arr = np.array([1,2,3,4,5,6,7,8])\n",
    "weight = np.array([2,6,4,7,2,3,5,1])     #weights are different\n",
    "np.average(arr,weights = weight)         #np.average has argument of weight"
   ]
  },
  {
   "cell_type": "markdown",
   "id": "65719c6c-e228-4575-82f8-c8c2fb4014b0",
   "metadata": {},
   "source": [
    "3. Describe the methods for reversing a NumPy array along different axes. Provide examples for 1D and 2D array."
   ]
  },
  {
   "cell_type": "code",
   "execution_count": 16,
   "id": "27aa9b84-3621-463e-9c7f-8efaa5404304",
   "metadata": {},
   "outputs": [],
   "source": [
    "#solution 3\n",
    "arr1 = np.array([1,2,3,4,5,6])      #1D array\n",
    "arr2 = np.array([[1,2,3,4],[5,6,7,8]])   #2Darray"
   ]
  },
  {
   "cell_type": "code",
   "execution_count": 18,
   "id": "db4fcf09-052e-4a11-a9d4-99d192a7b9fe",
   "metadata": {},
   "outputs": [
    {
     "data": {
      "text/plain": [
       "array([6, 5, 4, 3, 2, 1])"
      ]
     },
     "execution_count": 18,
     "metadata": {},
     "output_type": "execute_result"
    }
   ],
   "source": [
    "np.flip(arr1)      #no need to mention axes in case of 1D"
   ]
  },
  {
   "cell_type": "code",
   "execution_count": 19,
   "id": "a6c1541a-217c-4898-8895-0d504bafb19e",
   "metadata": {},
   "outputs": [
    {
     "data": {
      "text/plain": [
       "array([[5, 6, 7, 8],\n",
       "       [1, 2, 3, 4]])"
      ]
     },
     "execution_count": 19,
     "metadata": {},
     "output_type": "execute_result"
    }
   ],
   "source": [
    "np.flip(arr2,axis = 0)    #Flip an array vertically"
   ]
  },
  {
   "cell_type": "code",
   "execution_count": 21,
   "id": "99942b98-038f-4a7e-b3f4-761bcb1f63e4",
   "metadata": {},
   "outputs": [
    {
     "data": {
      "text/plain": [
       "array([[4, 3, 2, 1],\n",
       "       [8, 7, 6, 5]])"
      ]
     },
     "execution_count": 21,
     "metadata": {},
     "output_type": "execute_result"
    }
   ],
   "source": [
    "np.flip(arr2,axis = 1)  #Flip an array horizontally"
   ]
  },
  {
   "cell_type": "markdown",
   "id": "8d03c7b0-d5af-4cd7-8e50-7090b0f56d88",
   "metadata": {},
   "source": [
    "4. How can you determine the data type of elements in a NumPy array? Discuss the importance of data types in memory management and performance.\n",
    "\n",
    "\n"
   ]
  },
  {
   "cell_type": "code",
   "execution_count": 4,
   "id": "cd1eba6c-4967-4270-a3e1-c0c3def15399",
   "metadata": {},
   "outputs": [
    {
     "data": {
      "text/plain": [
       "dtype('int64')"
      ]
     },
     "execution_count": 4,
     "metadata": {},
     "output_type": "execute_result"
    }
   ],
   "source": [
    "#solution 4\n",
    "numpy is a collection of homogenous data.\n",
    "To know about the data type use dtype"
   ]
  },
  {
   "cell_type": "code",
   "execution_count": 5,
   "id": "a93a12fa-f4da-4753-aef3-2c6a49372082",
   "metadata": {},
   "outputs": [
    {
     "data": {
      "text/plain": [
       "dtype('int64')"
      ]
     },
     "execution_count": 5,
     "metadata": {},
     "output_type": "execute_result"
    }
   ],
   "source": [
    "arr =np.array([1,2,3,4,5,6,7])\n",
    "arr.dtype"
   ]
  },
  {
   "cell_type": "code",
   "execution_count": null,
   "id": "db2c0b0e-dad0-43ed-8e17-f0269bb72bf7",
   "metadata": {},
   "outputs": [],
   "source": [
    "data type plays an important role in memory management as it allow the compiler\n",
    "to allocate right amount of memory for data and perform right operation on it\n",
    "due to this feature of datatype memory manged corectly and calculation become faster\n"
   ]
  },
  {
   "cell_type": "markdown",
   "id": "f8e3bb29-ba5d-440e-9ec7-00b5c9dd7064",
   "metadata": {},
   "source": [
    "5. Define ndarrays in NumPy and explain their key features. \n",
    "How do they differ from standard Python lists?"
   ]
  },
  {
   "cell_type": "code",
   "execution_count": null,
   "id": "f6ceb470-0a43-414d-9ab9-0b5b7193f241",
   "metadata": {},
   "outputs": [],
   "source": [
    "#solution 5\n",
    "ndarrays are the collection of same type of data,size of data are also same\n",
    "key features of ndarray in numpy is that  it ideal for handling large datasets, images, \n",
    "and other types of numerical data. NumPy arrays are much more efficient \n",
    "than Python’s built-in lists, and they offer many additional features that make \n",
    "them easier to work with.\n",
    "difference between ndarray and list are\n",
    "ndarray can store only homogenous data where as list can store hetrogenous data\n",
    "list takes huge amount of time and memory for numerical calculation on large dataset\n",
    "whereas ndarrayb take very less time and memory for numerical calculation on large dataset"
   ]
  },
  {
   "cell_type": "markdown",
   "id": "22bb856a-bacb-4be7-ae00-6d645c804117",
   "metadata": {},
   "source": [
    "6. Analyze the performance benefits of NumPy arrays over Python lists for large-scale\n",
    "numerical operations."
   ]
  },
  {
   "cell_type": "code",
   "execution_count": 4,
   "id": "41e2816c-0dab-44f6-ab08-c21035e70d64",
   "metadata": {},
   "outputs": [],
   "source": [
    "#solution 6\n",
    "to analyse the performance benefits of Numpy array over lists we will note the time taken \n",
    "by both on large scale numerical operation"
   ]
  },
  {
   "cell_type": "code",
   "execution_count": 8,
   "id": "0728bbda-72ae-4ba9-b406-379285b59c37",
   "metadata": {},
   "outputs": [
    {
     "name": "stdout",
     "output_type": "stream",
     "text": [
      "time taken by python list : 0.01838088035583496 seconds\n",
      "time taken by numpy array : 0.0010471343994140625 seconds\n"
     ]
    }
   ],
   "source": [
    "#example\n",
    "import numpy as np\n",
    "import time as t\n",
    "size = 200000\n",
    "lst1 = list(range(size))\n",
    "lst2 = list(range(size))\n",
    "arr1 = np.arange(size)\n",
    "arr2 = np.arange(size)\n",
    "\n",
    "\n",
    "#time calculation for list\n",
    "begin = t.time()\n",
    "final_lst = [(a*b) for a,b in zip(lst1,lst2)]\n",
    "print(f\"time taken by python list : {t.time()-begin} seconds\")\n",
    "\n",
    "\n",
    "#time calculation for array\n",
    "begin = t.time()\n",
    "final_arr = arr1*arr2\n",
    "print(f\"time taken by numpy array : {t.time()-begin} seconds\")"
   ]
  },
  {
   "cell_type": "code",
   "execution_count": null,
   "id": "df689983-56b6-4ace-b039-c70337011908",
   "metadata": {},
   "outputs": [],
   "source": [
    "clearly we can see that list takes more time than numpy array"
   ]
  },
  {
   "cell_type": "markdown",
   "id": "0910ffd9-3f98-480b-a2ca-c29b010529c9",
   "metadata": {},
   "source": [
    "7. Compare vstack() and hstack() functions in NumPy. Provide examples demonstrating their usage and\n",
    "output."
   ]
  },
  {
   "cell_type": "code",
   "execution_count": null,
   "id": "67e6ba79-2096-45fa-97a3-6c133ec1e9c9",
   "metadata": {},
   "outputs": [],
   "source": [
    "#solution 7\n",
    "vstack() is used to stack sequense of input array vertically to make a single array\n",
    "hstack () is used to stack sequense of input array horizontally to make a single array\n"
   ]
  },
  {
   "cell_type": "code",
   "execution_count": 14,
   "id": "840a8a89-fb74-43a1-bea1-bfe6d4359e3e",
   "metadata": {},
   "outputs": [
    {
     "data": {
      "text/plain": [
       "array([[1., 1., 1.],\n",
       "       [1., 1., 1.],\n",
       "       [1., 1., 1.],\n",
       "       [1., 2., 3.]])"
      ]
     },
     "execution_count": 14,
     "metadata": {},
     "output_type": "execute_result"
    }
   ],
   "source": [
    "#examples\n",
    "#vstack()\n",
    "arr1 = np.ones((3,3))\n",
    "arr2 = np.array([1,2,3])\n",
    "np.vstack((arr1,arr2))\n",
    "\n"
   ]
  },
  {
   "cell_type": "code",
   "execution_count": 15,
   "id": "690f864c-2ebb-470c-a8b7-775be9f06a33",
   "metadata": {},
   "outputs": [
    {
     "ename": "ValueError",
     "evalue": "all the input arrays must have same number of dimensions, but the array at index 0 has 2 dimension(s) and the array at index 1 has 1 dimension(s)",
     "output_type": "error",
     "traceback": [
      "\u001b[0;31m---------------------------------------------------------------------------\u001b[0m",
      "\u001b[0;31mValueError\u001b[0m                                Traceback (most recent call last)",
      "Cell \u001b[0;32mIn[15], line 3\u001b[0m\n\u001b[1;32m      1\u001b[0m \u001b[38;5;66;03m#hstack()\u001b[39;00m\n\u001b[1;32m      2\u001b[0m \u001b[38;5;66;03m#we cannot use hstack directly.both array should have same number of rows\u001b[39;00m\n\u001b[0;32m----> 3\u001b[0m \u001b[43mnp\u001b[49m\u001b[38;5;241;43m.\u001b[39;49m\u001b[43mhstack\u001b[49m\u001b[43m(\u001b[49m\u001b[43m(\u001b[49m\u001b[43marr1\u001b[49m\u001b[43m,\u001b[49m\u001b[43marr2\u001b[49m\u001b[43m)\u001b[49m\u001b[43m)\u001b[49m\n",
      "File \u001b[0;32m<__array_function__ internals>:180\u001b[0m, in \u001b[0;36mhstack\u001b[0;34m(*args, **kwargs)\u001b[0m\n",
      "File \u001b[0;32m/opt/conda/lib/python3.10/site-packages/numpy/core/shape_base.py:345\u001b[0m, in \u001b[0;36mhstack\u001b[0;34m(tup)\u001b[0m\n\u001b[1;32m    343\u001b[0m     \u001b[38;5;28;01mreturn\u001b[39;00m _nx\u001b[38;5;241m.\u001b[39mconcatenate(arrs, \u001b[38;5;241m0\u001b[39m)\n\u001b[1;32m    344\u001b[0m \u001b[38;5;28;01melse\u001b[39;00m:\n\u001b[0;32m--> 345\u001b[0m     \u001b[38;5;28;01mreturn\u001b[39;00m \u001b[43m_nx\u001b[49m\u001b[38;5;241;43m.\u001b[39;49m\u001b[43mconcatenate\u001b[49m\u001b[43m(\u001b[49m\u001b[43marrs\u001b[49m\u001b[43m,\u001b[49m\u001b[43m \u001b[49m\u001b[38;5;241;43m1\u001b[39;49m\u001b[43m)\u001b[49m\n",
      "File \u001b[0;32m<__array_function__ internals>:180\u001b[0m, in \u001b[0;36mconcatenate\u001b[0;34m(*args, **kwargs)\u001b[0m\n",
      "\u001b[0;31mValueError\u001b[0m: all the input arrays must have same number of dimensions, but the array at index 0 has 2 dimension(s) and the array at index 1 has 1 dimension(s)"
     ]
    }
   ],
   "source": [
    "#hstack()\n",
    "#we cannot use hstack directly.both array should have same number of rows\n",
    "np.hstack((arr1,arr2))\n"
   ]
  },
  {
   "cell_type": "code",
   "execution_count": 17,
   "id": "26f5064a-de2f-47e3-b57b-7f27e7ed333f",
   "metadata": {},
   "outputs": [],
   "source": [
    "#to apply hstack we should make both array with same number of rows\n",
    "arr2 = arr2.reshape(3,1)"
   ]
  },
  {
   "cell_type": "code",
   "execution_count": 18,
   "id": "3ac442eb-efa2-4f62-8501-a4c511b7f6cf",
   "metadata": {},
   "outputs": [
    {
     "data": {
      "text/plain": [
       "array([[1., 1., 1., 1.],\n",
       "       [1., 1., 1., 2.],\n",
       "       [1., 1., 1., 3.]])"
      ]
     },
     "execution_count": 18,
     "metadata": {},
     "output_type": "execute_result"
    }
   ],
   "source": [
    "#now we can apply hstack\n",
    "np.hstack((arr1,arr2))\n"
   ]
  },
  {
   "cell_type": "markdown",
   "id": "22c2346a-9234-4d06-9339-2ec98cc2ead0",
   "metadata": {},
   "source": [
    "8. Explain the differences between fliplr() and flipud() methods in NumPy, including their effects on various\n",
    "array dimensions."
   ]
  },
  {
   "cell_type": "code",
   "execution_count": null,
   "id": "35337d4f-019e-4726-8f0d-1c96da37bd4e",
   "metadata": {},
   "outputs": [],
   "source": [
    "#solution 8\n",
    "fliplr() >>> array will flip left and right\n",
    "flipud() >>> array will flip up and down"
   ]
  },
  {
   "cell_type": "code",
   "execution_count": 11,
   "id": "4c6db2f1-1265-4e56-9bbd-9c3b8db161e0",
   "metadata": {},
   "outputs": [
    {
     "data": {
      "text/plain": [
       "array([[5, 3, 3],\n",
       "       [3, 5, 6]])"
      ]
     },
     "execution_count": 11,
     "metadata": {},
     "output_type": "execute_result"
    }
   ],
   "source": [
    "import numpy as np\n",
    "arr1 = np.random.randint(3,7,size = 6).reshape(2,3)\n",
    "arr1\n"
   ]
  },
  {
   "cell_type": "code",
   "execution_count": 12,
   "id": "a2e0096e-78e5-4c1a-96dd-d84ee710a7e2",
   "metadata": {},
   "outputs": [
    {
     "data": {
      "text/plain": [
       "array([[3, 3, 5],\n",
       "       [6, 5, 3]])"
      ]
     },
     "execution_count": 12,
     "metadata": {},
     "output_type": "execute_result"
    }
   ],
   "source": [
    "np.fliplr(arr1)     #elements will flip from left to right"
   ]
  },
  {
   "cell_type": "code",
   "execution_count": 13,
   "id": "2dfd9758-f55f-4107-99c6-1375f08d6647",
   "metadata": {},
   "outputs": [
    {
     "data": {
      "text/plain": [
       "array([[3, 5, 6],\n",
       "       [5, 3, 3]])"
      ]
     },
     "execution_count": 13,
     "metadata": {},
     "output_type": "execute_result"
    }
   ],
   "source": [
    "np.flipud(arr1)     #elements will flip from up to down"
   ]
  },
  {
   "cell_type": "code",
   "execution_count": 14,
   "id": "6ee355f0-8335-4257-a1ba-729e35a2defb",
   "metadata": {},
   "outputs": [],
   "source": [
    "arr2 = np.array([1,2,3,4,5,6])"
   ]
  },
  {
   "cell_type": "markdown",
   "id": "b270d49c-6374-4af6-a252-2d1e81466219",
   "metadata": {},
   "source": [
    "9. Discuss the functionality of the array_split() method in NumPy. How does it handle uneven splits?"
   ]
  },
  {
   "cell_type": "code",
   "execution_count": null,
   "id": "b92af363-8e0f-4ff1-a209-e91e94584d68",
   "metadata": {},
   "outputs": [],
   "source": [
    "#solution 9\n",
    "array_split method is same as array.split.the only differnce is it handle uneven data for which \n",
    "array.split throw an error\n",
    "array_split method is used to split data into required form i.e. about given axis,to number of arrays and \n",
    "about mentioned index\n"
   ]
  },
  {
   "cell_type": "code",
   "execution_count": 13,
   "id": "4640d6fa-d2fe-4001-a495-34ac251fcc44",
   "metadata": {},
   "outputs": [
    {
     "data": {
      "text/plain": [
       "array([[ 4,  9, 12],\n",
       "       [16,  5, 16],\n",
       "       [ 7, 12, 15]])"
      ]
     },
     "execution_count": 13,
     "metadata": {},
     "output_type": "execute_result"
    }
   ],
   "source": [
    "#example\n",
    "#split data about given axis\n",
    "import numpy as np\n",
    "arr1 = np.random.randint(2,17,size = 9).reshape(3,3)\n",
    "arr1"
   ]
  },
  {
   "cell_type": "code",
   "execution_count": 14,
   "id": "bc133f09-d77e-4a01-a6fb-d685f2846a44",
   "metadata": {},
   "outputs": [
    {
     "data": {
      "text/plain": [
       "[array([[ 4,  9, 12]]), array([[16,  5, 16]]), array([[ 7, 12, 15]])]"
      ]
     },
     "execution_count": 14,
     "metadata": {},
     "output_type": "execute_result"
    }
   ],
   "source": [
    "new_arr1 = np.array_split(arr1,3,axis =0)    #split about axis 0\n",
    "new_arr1"
   ]
  },
  {
   "cell_type": "code",
   "execution_count": 15,
   "id": "bc0c50ad-fd53-4381-9390-478574b684a4",
   "metadata": {},
   "outputs": [
    {
     "data": {
      "text/plain": [
       "[array([[ 4],\n",
       "        [16],\n",
       "        [ 7]]),\n",
       " array([[ 9],\n",
       "        [ 5],\n",
       "        [12]]),\n",
       " array([[12],\n",
       "        [16],\n",
       "        [15]])]"
      ]
     },
     "execution_count": 15,
     "metadata": {},
     "output_type": "execute_result"
    }
   ],
   "source": [
    "new_arr1 = np.array_split(arr1,3,axis =1)    #split about axis 0\n",
    "new_arr1"
   ]
  },
  {
   "cell_type": "code",
   "execution_count": 19,
   "id": "59a1e5f6-477e-4f4d-91af-262df29eaae9",
   "metadata": {},
   "outputs": [
    {
     "ename": "ValueError",
     "evalue": "array split does not result in an equal division",
     "output_type": "error",
     "traceback": [
      "\u001b[0;31m---------------------------------------------------------------------------\u001b[0m",
      "\u001b[0;31mValueError\u001b[0m                                Traceback (most recent call last)",
      "Cell \u001b[0;32mIn[19], line 2\u001b[0m\n\u001b[1;32m      1\u001b[0m \u001b[38;5;66;03m#np.split can't handle uneven split\u001b[39;00m\n\u001b[0;32m----> 2\u001b[0m new_arr1 \u001b[38;5;241m=\u001b[39m \u001b[43mnp\u001b[49m\u001b[38;5;241;43m.\u001b[39;49m\u001b[43msplit\u001b[49m\u001b[43m(\u001b[49m\u001b[43marr1\u001b[49m\u001b[43m,\u001b[49m\u001b[38;5;241;43m2\u001b[39;49m\u001b[43m)\u001b[49m    \n\u001b[1;32m      3\u001b[0m new_arr1\n",
      "File \u001b[0;32m<__array_function__ internals>:180\u001b[0m, in \u001b[0;36msplit\u001b[0;34m(*args, **kwargs)\u001b[0m\n",
      "File \u001b[0;32m/opt/conda/lib/python3.10/site-packages/numpy/lib/shape_base.py:872\u001b[0m, in \u001b[0;36msplit\u001b[0;34m(ary, indices_or_sections, axis)\u001b[0m\n\u001b[1;32m    870\u001b[0m     N \u001b[38;5;241m=\u001b[39m ary\u001b[38;5;241m.\u001b[39mshape[axis]\n\u001b[1;32m    871\u001b[0m     \u001b[38;5;28;01mif\u001b[39;00m N \u001b[38;5;241m%\u001b[39m sections:\n\u001b[0;32m--> 872\u001b[0m         \u001b[38;5;28;01mraise\u001b[39;00m \u001b[38;5;167;01mValueError\u001b[39;00m(\n\u001b[1;32m    873\u001b[0m             \u001b[38;5;124m'\u001b[39m\u001b[38;5;124marray split does not result in an equal division\u001b[39m\u001b[38;5;124m'\u001b[39m) \u001b[38;5;28;01mfrom\u001b[39;00m \u001b[38;5;28mNone\u001b[39m\n\u001b[1;32m    874\u001b[0m \u001b[38;5;28;01mreturn\u001b[39;00m array_split(ary, indices_or_sections, axis)\n",
      "\u001b[0;31mValueError\u001b[0m: array split does not result in an equal division"
     ]
    }
   ],
   "source": [
    "#np.split can't handle uneven split\n",
    "new_arr1 = np.split(arr1,2)    \n",
    "new_arr1"
   ]
  },
  {
   "cell_type": "code",
   "execution_count": 20,
   "id": "b866019f-4249-4e41-89a4-1fa4c303f5f7",
   "metadata": {},
   "outputs": [
    {
     "data": {
      "text/plain": [
       "[array([[ 4,  9, 12],\n",
       "        [16,  5, 16]]),\n",
       " array([[ 7, 12, 15]])]"
      ]
     },
     "execution_count": 20,
     "metadata": {},
     "output_type": "execute_result"
    }
   ],
   "source": [
    "# np.array_split can handle uneven split also\n",
    "\n",
    "new_arr1 = np.array_split(arr1,2)    \n",
    "new_arr1"
   ]
  },
  {
   "cell_type": "markdown",
   "id": "b9eaf850-299e-4b89-84b3-f375fef2ea15",
   "metadata": {},
   "source": [
    "10. Explain the concepts of vectorization and broadcasting in NumPy. How do they contribute to efficient array operations?"
   ]
  },
  {
   "cell_type": "code",
   "execution_count": 21,
   "id": "62890961-5574-44dc-9e1c-8b8167ecf664",
   "metadata": {},
   "outputs": [],
   "source": [
    "#solution 10\n",
    "vectorization >> it is the process of performing operations between arrays without using for loop.it uses \n",
    "broadcasting when array size are different or not compatible with each other\n"
   ]
  },
  {
   "cell_type": "code",
   "execution_count": 31,
   "id": "592e5e72-11d4-4f1b-acbb-6e147b1abfb8",
   "metadata": {},
   "outputs": [
    {
     "data": {
      "text/plain": [
       "array([[2., 3., 4., 5.],\n",
       "       [6., 7., 8., 9.]])"
      ]
     },
     "execution_count": 31,
     "metadata": {},
     "output_type": "execute_result"
    }
   ],
   "source": [
    "#example\n",
    "arr1 = np.linspace(2,9,8).reshape(2,4)\n",
    "arr1"
   ]
  },
  {
   "cell_type": "code",
   "execution_count": 32,
   "id": "75c14c12-e391-447c-aaf6-624150dcc70a",
   "metadata": {},
   "outputs": [
    {
     "data": {
      "text/plain": [
       "array([[ 7.        ,  8.71428571, 10.42857143, 12.14285714],\n",
       "       [13.85714286, 15.57142857, 17.28571429, 19.        ]])"
      ]
     },
     "execution_count": 32,
     "metadata": {},
     "output_type": "execute_result"
    }
   ],
   "source": [
    "arr2 = np.linspace(7,19,8).reshape(2,4)\n",
    "arr2"
   ]
  },
  {
   "cell_type": "code",
   "execution_count": 35,
   "id": "2bf4c452-2e88-456f-ac2e-29c795e6692c",
   "metadata": {},
   "outputs": [
    {
     "name": "stdout",
     "output_type": "stream",
     "text": [
      "sum of arr1 and arr2 is \n",
      "[[ 9.         11.71428571 14.42857143 17.14285714]\n",
      " [19.85714286 22.57142857 25.28571429 28.        ]]\n"
     ]
    }
   ],
   "source": [
    "print(f\"sum of arr1 and arr2 is \\n{arr1+arr2}\")    #vectorization is used here"
   ]
  },
  {
   "cell_type": "code",
   "execution_count": null,
   "id": "4ed276eb-2821-4e50-bc86-cd73accc2ea3",
   "metadata": {},
   "outputs": [],
   "source": [
    "we didnot use for loop above i.e. we do not apply operation on elements one by one \n",
    "instead of which we use vectorization\n",
    "it gives faster result then for loop"
   ]
  },
  {
   "cell_type": "code",
   "execution_count": null,
   "id": "5f06c1f4-53b2-47b5-b644-5b5d0189c418",
   "metadata": {},
   "outputs": [],
   "source": [
    "#broadcasting\n",
    "broadcasting is used when we have array of different size\n",
    "it expand the array of smaller size and make it compatible with larger one to perform given operation\n"
   ]
  },
  {
   "cell_type": "code",
   "execution_count": 36,
   "id": "13947511-4cae-41c5-8b79-4968b67d87f7",
   "metadata": {},
   "outputs": [
    {
     "data": {
      "text/plain": [
       "array([ 6,  7,  8,  9, 10])"
      ]
     },
     "execution_count": 36,
     "metadata": {},
     "output_type": "execute_result"
    }
   ],
   "source": [
    "#example\n",
    "arr1 = np.array([1,2,3,4,5])\n",
    "arr2 = 5     #it will convert into arr(5,5,5,5,5) before operation i.e. called broadcasting\n",
    "arr1+arr2    #here broadcasting and vectorization both happens"
   ]
  },
  {
   "cell_type": "code",
   "execution_count": null,
   "id": "0853cb12-612c-4cad-b29c-c07b18d29750",
   "metadata": {},
   "outputs": [],
   "source": []
  }
 ],
 "metadata": {
  "kernelspec": {
   "display_name": "Python 3 (ipykernel)",
   "language": "python",
   "name": "python3"
  },
  "language_info": {
   "codemirror_mode": {
    "name": "ipython",
    "version": 3
   },
   "file_extension": ".py",
   "mimetype": "text/x-python",
   "name": "python",
   "nbconvert_exporter": "python",
   "pygments_lexer": "ipython3",
   "version": "3.10.8"
  }
 },
 "nbformat": 4,
 "nbformat_minor": 5
}
